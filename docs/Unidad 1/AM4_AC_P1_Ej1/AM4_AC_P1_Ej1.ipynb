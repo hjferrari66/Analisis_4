{
 "cells": [
  {
   "cell_type": "markdown",
   "metadata": {},
   "source": [
    "# Práctica 1 - Ejercicio 1  \n",
    "Modificar el código para calcular la raíz enésima de cualquier número complejo y graficarla  \n",
    "$\\; \\; \\; \\; \\; \\; \\; \\; \\; \\; \\; \\; \\; \\; \\; \\; \\; \\; \\; \\; \\; \\; \\; \\; \\; \\; \\; \\;   \\LARGE \\sqrt[n] {z} $"
   ]
  },
  {
   "cell_type": "code",
   "execution_count": 10,
   "metadata": {},
   "outputs": [],
   "source": [
    "import numpy as np\n",
    "import sympy as sym\n",
    "import matplotlib.pyplot as plt\n",
    "from IPython.display import display, Math"
   ]
  },
  {
   "cell_type": "markdown",
   "metadata": {},
   "source": [
    "Utilizo la siguiente expresión para calcular a través de una función las raices enesimas de un número complejo $ z = r e^{i\\theta}$  \n",
    "$$\\LARGE w =  \\sqrt[n] {z}  =  \\sqrt[n] {r} \\;   e^{i \\frac{\\theta + 2 k \\pi}{n}}$$  \n",
    "con $ k \\in Z \\; \\; \\; 0 \\leq k < n$"
   ]
  },
  {
   "cell_type": "code",
   "execution_count": 11,
   "metadata": {},
   "outputs": [],
   "source": [
    "def nroot(z, n):\n",
    "    for k in range(0, n):\n",
    "        root=np.abs(z)**(1/n)*np.exp((np.angle(z) + 2*np.pi*k)*1j/n)\n",
    "        rootsym=sym.Abs(z)**(1/n)*sym.exp((sym.arg(z) + 2*sym.pi*k)*sym.I/n)\n",
    "        print(root)\n",
    "        display(Math('(%s)^{%s} \\\\Rightarrow %s' %(sym.latex(rootsym),n, sym.latex(rootsym**n))))\n",
    "        plt.plot(np.real(root), np.imag(root),'ro')\n",
    "    x = np.linspace(0, 2*np.pi, 100)\n",
    "    plt.plot(np.cos(x), np.sin(x), color='blue')\n",
    "    plt.plot(np.abs(z)**(1/n)*np.cos(x),np.abs(z)**(1/n)* np.sin(x),'--', color='red')\n",
    "\n",
    "    plt.axis('square')\n",
    "    plt.show()\n",
    "    return"
   ]
  },
  {
   "cell_type": "code",
   "execution_count": 15,
   "metadata": {},
   "outputs": [
    {
     "name": "stdout",
     "output_type": "stream",
     "text": [
      "(0.7071067811865476+0.7071067811865476j)\n"
     ]
    },
    {
     "data": {
      "text/latex": [
       "$\\displaystyle (e^{\\frac{i \\pi}{4}})^{4} \\Rightarrow -1$"
      ],
      "text/plain": [
       "<IPython.core.display.Math object>"
      ]
     },
     "metadata": {},
     "output_type": "display_data"
    },
    {
     "name": "stdout",
     "output_type": "stream",
     "text": [
      "(-0.7071067811865475+0.7071067811865476j)\n"
     ]
    },
    {
     "data": {
      "text/latex": [
       "$\\displaystyle (e^{\\frac{3 i \\pi}{4}})^{4} \\Rightarrow -1$"
      ],
      "text/plain": [
       "<IPython.core.display.Math object>"
      ]
     },
     "metadata": {},
     "output_type": "display_data"
    },
    {
     "name": "stdout",
     "output_type": "stream",
     "text": [
      "(-0.7071067811865477-0.7071067811865475j)\n"
     ]
    },
    {
     "data": {
      "text/latex": [
       "$\\displaystyle (e^{- \\frac{3 i \\pi}{4}})^{4} \\Rightarrow -1$"
      ],
      "text/plain": [
       "<IPython.core.display.Math object>"
      ]
     },
     "metadata": {},
     "output_type": "display_data"
    },
    {
     "name": "stdout",
     "output_type": "stream",
     "text": [
      "(0.7071067811865474-0.7071067811865477j)\n"
     ]
    },
    {
     "data": {
      "text/latex": [
       "$\\displaystyle (e^{- \\frac{i \\pi}{4}})^{4} \\Rightarrow -1$"
      ],
      "text/plain": [
       "<IPython.core.display.Math object>"
      ]
     },
     "metadata": {},
     "output_type": "display_data"
    },
    {
     "data": {
      "image/png": "[encoded data removed]",
      "text/plain": [
       "<Figure size 432x288 with 1 Axes>"
      ]
     },
     "metadata": {
      "needs_background": "light"
     },
     "output_type": "display_data"
    }
   ],
   "source": [
    "nroot(-1 ,4)"
   ]
  }
 ],
 "metadata": {
  "kernelspec": {
   "display_name": "Python 3",
   "language": "python",
   "name": "python3"
  },
  "language_info": {
   "codemirror_mode": {
    "name": "ipython",
    "version": 3
   },
   "file_extension": ".py",
   "mimetype": "text/x-python",
   "name": "python",
   "nbconvert_exporter": "python",
   "pygments_lexer": "ipython3",
   "version": "3.7.6"
  }
 },
 "nbformat": 4,
 "nbformat_minor": 4
}
