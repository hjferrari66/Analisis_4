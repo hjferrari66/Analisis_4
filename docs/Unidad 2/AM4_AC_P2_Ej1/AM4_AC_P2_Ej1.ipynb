{
 "cells": [
  {
   "cell_type": "markdown",
   "metadata": {},
   "source": [
    "# Práctica 2 - Ejercicio 1   \n",
    "Dada una función analítica $f(z)$, calcular $\\int_{z_1}^{z_2} f(z) $  \n",
    "- La integral no depende del camino\n",
    "- La integral sobre un camino cerrado es cero\n",
    "- Existe una función F(z) tal que $f(z) = \\frac{dF(z)}{dz}$  \n",
    "- $\\int_{z_1}^{z_2} f(z) = F(z_2) - F(z_1)$"
   ]
  },
  {
   "cell_type": "code",
   "execution_count": 71,
   "metadata": {},
   "outputs": [],
   "source": [
    "from sympy import *\n",
    "z, f, F = symbols('z f F')\n",
    "init_printing(use_unicode=True)"
   ]
  },
  {
   "cell_type": "markdown",
   "metadata": {},
   "source": [
    "En la siguiente celda defino una función que dada $f(z), z_1 y z_2$ calcula $F(z)$ y el valor de la integral"
   ]
  },
  {
   "cell_type": "code",
   "execution_count": 72,
   "metadata": {},
   "outputs": [],
   "source": [
    "def integral1(f,z1,z2):\n",
    "    if (not (integrate(f, z).has(Integral))):\n",
    "        F = integrate(f, z)\n",
    "        print('f=', f, 'F=', F, 'F(z2)=', F.evalf(subs={z:z2}), 'F(z1)=', F.evalf(subs={z:z1}))\n",
    "        return F.evalf(subs={z:z2}) - F.evalf(subs={z:z1})\n",
    "    else:\n",
    "        print('No encuentro la primitiva')"
   ]
  },
  {
   "cell_type": "code",
   "execution_count": 73,
   "metadata": {},
   "outputs": [
    {
     "name": "stdout",
     "output_type": "stream",
     "text": [
      "f= z**(-3) F= -1/(2*z**2) F(z2)= -0.04 - 0.03*I F(z1)= 0.06 - 0.08*I\n"
     ]
    },
    {
     "data": {
      "image/png": "[encoded data removed]",
      "text/latex": [
       "$\\displaystyle -0.1 + 0.05 i$"
      ],
      "text/plain": [
       "-0.1 + 0.05⋅ⅈ"
      ]
     },
     "execution_count": 73,
     "metadata": {},
     "output_type": "execute_result"
    }
   ],
   "source": [
    "integral1(1/z**3,-1+2j,-3+1j)"
   ]
  },
  {
   "cell_type": "code",
   "execution_count": 74,
   "metadata": {},
   "outputs": [
    {
     "name": "stdout",
     "output_type": "stream",
     "text": [
      "No encuentro la primitiva\n"
     ]
    }
   ],
   "source": [
    "integral1(1/cos(z**3),2j,-3)"
   ]
  }
 ],
 "metadata": {
  "kernelspec": {
   "display_name": "Python 3",
   "language": "python",
   "name": "python3"
  },
  "language_info": {
   "codemirror_mode": {
    "name": "ipython",
    "version": 3
   },
   "file_extension": ".py",
   "mimetype": "text/x-python",
   "name": "python",
   "nbconvert_exporter": "python",
   "pygments_lexer": "ipython3",
   "version": "3.7.6"
  }
 },
 "nbformat": 4,
 "nbformat_minor": 4
}
